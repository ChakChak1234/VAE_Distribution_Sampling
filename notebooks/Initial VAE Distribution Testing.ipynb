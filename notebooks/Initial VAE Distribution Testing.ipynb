{
 "cells": [
  {
   "cell_type": "markdown",
   "metadata": {},
   "source": [
    "# Initial VAE Distribution Testing"
   ]
  },
  {
   "cell_type": "code",
   "execution_count": 101,
   "metadata": {},
   "outputs": [
    {
     "name": "stdout",
     "output_type": "stream",
     "text": [
      "TensorFlow Version: 2.0.0\n"
     ]
    }
   ],
   "source": [
    "#!pip install tensorflow numpy matplotlib pydot graphviz\n",
    "#!pip install --upgrade h5py\n",
    "\n",
    "import tensorflow\n",
    "\n",
    "print(f\"TensorFlow Version: {tensorflow.version.VERSION}\")\n",
    "\n",
    "from tensorflow.keras.layers import Lambda, Input, Dense\n",
    "from tensorflow.keras.models import Model\n",
    "from tensorflow.keras.datasets import mnist\n",
    "from tensorflow.keras.losses import mse, binary_crossentropy\n",
    "from tensorflow.keras.utils import plot_model\n",
    "from tensorflow.keras import backend as K\n",
    "\n",
    "import numpy as np\n",
    "import matplotlib.pyplot as plt\n",
    "import argparse\n",
    "import os"
   ]
  },
  {
   "cell_type": "code",
   "execution_count": 102,
   "metadata": {},
   "outputs": [],
   "source": [
    "# reparameterization trick\n",
    "# instead of sampling from Q(z|X), sample epsilon = N(0,I)\n",
    "# z = z_mean + sqrt(var) * epsilon\n",
    "def sampling(args):\n",
    "    \"\"\"Reparameterization trick by sampling from an isotropic unit Gaussian.\n",
    "\n",
    "    # Arguments\n",
    "        args (tensor): mean and log of variance of Q(z|X)\n",
    "\n",
    "    # Returns\n",
    "        z (tensor): sampled latent vector\n",
    "    \"\"\"\n",
    "\n",
    "    z_mean, z_log_var = args\n",
    "    batch = K.shape(z_mean)[0]\n",
    "    dim = K.int_shape(z_mean)[1]\n",
    "    # by default, random_normal has mean = 0 and std = 1.0\n",
    "    epsilon = K.random_normal(shape=(batch, dim))\n",
    "    return z_mean + K.exp(0.5 * z_log_var) * epsilon"
   ]
  },
  {
   "cell_type": "code",
   "execution_count": 103,
   "metadata": {},
   "outputs": [],
   "source": [
    "def plot_results(models,\n",
    "                 data,\n",
    "                 batch_size=128,\n",
    "                 model_name=\"vae_mnist\"):\n",
    "    \"\"\"Plots labels and MNIST digits as a function of the 2D latent vector\n",
    "\n",
    "    # Arguments\n",
    "        models (tuple): encoder and decoder models\n",
    "        data (tuple): test data and label\n",
    "        batch_size (int): prediction batch size\n",
    "        model_name (string): which model is using this function\n",
    "    \"\"\"\n",
    "\n",
    "    encoder, decoder = models\n",
    "    x_test, y_test = data\n",
    "    os.makedirs(model_name, exist_ok=True)\n",
    "\n",
    "    filename = os.path.join(model_name, \"vae_mean.png\")\n",
    "    # display a 2D plot of the digit classes in the latent space\n",
    "    z_mean, _, _ = encoder.predict(x_test,\n",
    "                                   batch_size=batch_size)\n",
    "    plt.figure(figsize=(12, 10))\n",
    "    plt.scatter(z_mean[:, 0], z_mean[:, 1], c=y_test)\n",
    "    plt.colorbar()\n",
    "    plt.xlabel(\"z[0]\")\n",
    "    plt.ylabel(\"z[1]\")\n",
    "    plt.savefig(filename)\n",
    "    plt.show()\n",
    "\n",
    "    filename = os.path.join(model_name, \"digits_over_latent.png\")\n",
    "    # display a 30x30 2D manifold of digits\n",
    "    n = 30\n",
    "    digit_size = 28\n",
    "    figure = np.zeros((digit_size * n, digit_size * n))\n",
    "    # linearly spaced coordinates corresponding to the 2D plot\n",
    "    # of digit classes in the latent space\n",
    "    grid_x = np.linspace(-4, 4, n)\n",
    "    grid_y = np.linspace(-4, 4, n)[::-1]\n",
    "\n",
    "    for i, yi in enumerate(grid_y):\n",
    "        for j, xi in enumerate(grid_x):\n",
    "            z_sample = np.array([[xi, yi]])\n",
    "            x_decoded = decoder.predict(z_sample)\n",
    "            digit = x_decoded[0].reshape(digit_size, digit_size)\n",
    "            figure[i * digit_size: (i + 1) * digit_size,\n",
    "                   j * digit_size: (j + 1) * digit_size] = digit\n",
    "\n",
    "    plt.figure(figsize=(10, 10))\n",
    "    start_range = digit_size // 2\n",
    "    end_range = (n - 1) * digit_size + start_range + 1\n",
    "    pixel_range = np.arange(start_range, end_range, digit_size)\n",
    "    sample_range_x = np.round(grid_x, 1)\n",
    "    sample_range_y = np.round(grid_y, 1)\n",
    "    plt.xticks(pixel_range, sample_range_x)\n",
    "    plt.yticks(pixel_range, sample_range_y)\n",
    "    plt.xlabel(\"z[0]\")\n",
    "    plt.ylabel(\"z[1]\")\n",
    "    plt.imshow(figure, cmap='Greys_r')\n",
    "    plt.savefig(filename)\n",
    "    plt.show()"
   ]
  },
  {
   "cell_type": "markdown",
   "metadata": {},
   "source": [
    "## Generate Samples from \"Arbitrary\" Distribution"
   ]
  },
  {
   "cell_type": "code",
   "execution_count": 104,
   "metadata": {},
   "outputs": [],
   "source": [
    "X1 = np.random.multivariate_normal([0,0], [[0.25,0],[0,0.25]], 5000)\n",
    "X2 = np.random.multivariate_normal([3,3], [[0.25,0],[0,0.25]], 5000)\n",
    "\n",
    "X = np.vstack([X1, X2])\n",
    "np.random.shuffle(X)\n",
    "\n",
    "min_x = min(X[:,0])\n",
    "max_x = max(X[:,0])\n",
    "\n",
    "min_y = min(X[:,1])\n",
    "max_y = max(X[:,1])\n",
    "\n",
    "X[:,0] = (X[:,0]-min_x)/(max_x - min_x)\n",
    "X[:,1] = (X[:,1]-min_y)/(max_y - min_y)\n",
    "\n",
    "x_train = X[:9000]\n",
    "x_test  = X[9000:]\n",
    "\n",
    "input_shape = (2,)\n",
    "\n",
    "intermediate_dim = 128\n",
    "batch_size = 128\n",
    "latent_dim = 2\n",
    "original_dim = 2"
   ]
  },
  {
   "cell_type": "code",
   "execution_count": 105,
   "metadata": {},
   "outputs": [],
   "source": [
    "# VAE model = encoder + decoder\n",
    "# build encoder model\n",
    "inputs = Input(shape=input_shape, name='encoder_input')\n",
    "x = Dense(intermediate_dim, activation='relu', name='x')(inputs)\n",
    "z_mean = Dense(latent_dim, name='z_mean')(x)\n",
    "z_log_var = Dense(latent_dim, name='z_log_var')(x)\n",
    "\n",
    "# use reparameterization trick to push the sampling out as input\n",
    "# note that \"output_shape\" isn't necessary with the TensorFlow backend\n",
    "z = Lambda(sampling, output_shape=(latent_dim,), name='z')([z_mean, z_log_var])"
   ]
  },
  {
   "cell_type": "code",
   "execution_count": 106,
   "metadata": {},
   "outputs": [
    {
     "name": "stdout",
     "output_type": "stream",
     "text": [
      "Model: \"encoder\"\n",
      "__________________________________________________________________________________________________\n",
      "Layer (type)                    Output Shape         Param #     Connected to                     \n",
      "==================================================================================================\n",
      "encoder_input (InputLayer)      [(None, 2)]          0                                            \n",
      "__________________________________________________________________________________________________\n",
      "x (Dense)                       (None, 128)          384         encoder_input[0][0]              \n",
      "__________________________________________________________________________________________________\n",
      "z_mean (Dense)                  (None, 2)            258         x[0][0]                          \n",
      "__________________________________________________________________________________________________\n",
      "z_log_var (Dense)               (None, 2)            258         x[0][0]                          \n",
      "__________________________________________________________________________________________________\n",
      "z (Lambda)                      (None, 2)            0           z_mean[0][0]                     \n",
      "                                                                 z_log_var[0][0]                  \n",
      "==================================================================================================\n",
      "Total params: 900\n",
      "Trainable params: 900\n",
      "Non-trainable params: 0\n",
      "__________________________________________________________________________________________________\n",
      "Failed to import pydot. You must install pydot and graphviz for `pydotprint` to work.\n"
     ]
    }
   ],
   "source": [
    "# instantiate encoder model\n",
    "encoder = Model(inputs, [z_mean, z_log_var, z], name='encoder')\n",
    "encoder.summary()\n",
    "plot_model(encoder, to_file='vae_mlp_encoder.png', show_shapes=True)\n",
    "\n",
    "# build decoder model\n",
    "latent_inputs = Input(shape=(latent_dim,), name='z_sampling')\n",
    "x = Dense(intermediate_dim, activation='relu', name='out_x')(latent_inputs)\n",
    "outputs = Dense(original_dim, activation='sigmoid', name='output')(x)"
   ]
  },
  {
   "cell_type": "markdown",
   "metadata": {},
   "source": [
    "## Define Decoder"
   ]
  },
  {
   "cell_type": "code",
   "execution_count": 107,
   "metadata": {},
   "outputs": [
    {
     "name": "stdout",
     "output_type": "stream",
     "text": [
      "Model: \"decoder\"\n",
      "_________________________________________________________________\n",
      "Layer (type)                 Output Shape              Param #   \n",
      "=================================================================\n",
      "z_sampling (InputLayer)      [(None, 2)]               0         \n",
      "_________________________________________________________________\n",
      "out_x (Dense)                (None, 128)               384       \n",
      "_________________________________________________________________\n",
      "output (Dense)               (None, 2)                 258       \n",
      "=================================================================\n",
      "Total params: 642\n",
      "Trainable params: 642\n",
      "Non-trainable params: 0\n",
      "_________________________________________________________________\n",
      "Failed to import pydot. You must install pydot and graphviz for `pydotprint` to work.\n"
     ]
    }
   ],
   "source": [
    "# instantiate decoder model\n",
    "decoder = Model(latent_inputs, outputs, name='decoder')\n",
    "decoder.summary()\n",
    "plot_model(decoder, to_file='vae_mlp_decoder.png', show_shapes=True)\n",
    "\n",
    "# instantiate VAE model\n",
    "outputs = decoder(encoder(inputs)[2])\n",
    "vae = Model(inputs, outputs, name='vae_mlp')"
   ]
  },
  {
   "cell_type": "code",
   "execution_count": 108,
   "metadata": {},
   "outputs": [
    {
     "name": "stdout",
     "output_type": "stream",
     "text": [
      "WARNING:tensorflow:Output decoder missing from loss dictionary. We assume this was done on purpose. The fit and evaluate APIs will not be expecting any data to be passed to decoder.\n",
      "Model: \"vae_mlp\"\n",
      "__________________________________________________________________________________________________\n",
      "Layer (type)                    Output Shape         Param #     Connected to                     \n",
      "==================================================================================================\n",
      "encoder_input (InputLayer)      [(None, 2)]          0                                            \n",
      "__________________________________________________________________________________________________\n",
      "encoder (Model)                 [(None, 2), (None, 2 900         encoder_input[0][0]              \n",
      "__________________________________________________________________________________________________\n",
      "decoder (Model)                 (None, 2)            642         encoder[1][2]                    \n",
      "__________________________________________________________________________________________________\n",
      "tf_op_layer_clip_by_value_8/Min [(None, 2)]          0           decoder[1][0]                    \n",
      "__________________________________________________________________________________________________\n",
      "tf_op_layer_clip_by_value_8 (Te [(None, 2)]          0           tf_op_layer_clip_by_value_8/Minim\n",
      "__________________________________________________________________________________________________\n",
      "tf_op_layer_sub_33 (TensorFlowO [(None, 2)]          0           tf_op_layer_clip_by_value_8[0][0]\n",
      "__________________________________________________________________________________________________\n",
      "tf_op_layer_add_40 (TensorFlowO [(None, 2)]          0           tf_op_layer_clip_by_value_8[0][0]\n",
      "__________________________________________________________________________________________________\n",
      "tf_op_layer_add_41 (TensorFlowO [(None, 2)]          0           tf_op_layer_sub_33[0][0]         \n",
      "__________________________________________________________________________________________________\n",
      "x (Dense)                       (None, 128)          384         encoder_input[0][0]              \n",
      "__________________________________________________________________________________________________\n",
      "tf_op_layer_Log_16 (TensorFlowO [(None, 2)]          0           tf_op_layer_add_40[0][0]         \n",
      "__________________________________________________________________________________________________\n",
      "tf_op_layer_sub_32 (TensorFlowO [(None, 2)]          0           encoder_input[0][0]              \n",
      "__________________________________________________________________________________________________\n",
      "tf_op_layer_Log_17 (TensorFlowO [(None, 2)]          0           tf_op_layer_add_41[0][0]         \n",
      "__________________________________________________________________________________________________\n",
      "z_log_var (Dense)               (None, 2)            258         x[0][0]                          \n",
      "__________________________________________________________________________________________________\n",
      "z_mean (Dense)                  (None, 2)            258         x[0][0]                          \n",
      "__________________________________________________________________________________________________\n",
      "tf_op_layer_mul_32 (TensorFlowO [(None, 2)]          0           encoder_input[0][0]              \n",
      "                                                                 tf_op_layer_Log_16[0][0]         \n",
      "__________________________________________________________________________________________________\n",
      "tf_op_layer_mul_33 (TensorFlowO [(None, 2)]          0           tf_op_layer_sub_32[0][0]         \n",
      "                                                                 tf_op_layer_Log_17[0][0]         \n",
      "__________________________________________________________________________________________________\n",
      "tf_op_layer_add_43 (TensorFlowO [(None, 2)]          0           z_log_var[0][0]                  \n",
      "__________________________________________________________________________________________________\n",
      "tf_op_layer_Square_8 (TensorFlo [(None, 2)]          0           z_mean[0][0]                     \n",
      "__________________________________________________________________________________________________\n",
      "tf_op_layer_add_42 (TensorFlowO [(None, 2)]          0           tf_op_layer_mul_32[0][0]         \n",
      "                                                                 tf_op_layer_mul_33[0][0]         \n",
      "__________________________________________________________________________________________________\n",
      "tf_op_layer_sub_34 (TensorFlowO [(None, 2)]          0           tf_op_layer_add_43[0][0]         \n",
      "                                                                 tf_op_layer_Square_8[0][0]       \n",
      "__________________________________________________________________________________________________\n",
      "tf_op_layer_Exp_8 (TensorFlowOp [(None, 2)]          0           z_log_var[0][0]                  \n",
      "__________________________________________________________________________________________________\n",
      "tf_op_layer_Neg_8 (TensorFlowOp [(None, 2)]          0           tf_op_layer_add_42[0][0]         \n",
      "__________________________________________________________________________________________________\n",
      "tf_op_layer_sub_35 (TensorFlowO [(None, 2)]          0           tf_op_layer_sub_34[0][0]         \n",
      "                                                                 tf_op_layer_Exp_8[0][0]          \n",
      "__________________________________________________________________________________________________\n",
      "tf_op_layer_Mean_16 (TensorFlow [(None,)]            0           tf_op_layer_Neg_8[0][0]          \n",
      "__________________________________________________________________________________________________\n",
      "tf_op_layer_Sum_8 (TensorFlowOp [(None,)]            0           tf_op_layer_sub_35[0][0]         \n",
      "__________________________________________________________________________________________________\n",
      "tf_op_layer_mul_34 (TensorFlowO [(None,)]            0           tf_op_layer_Mean_16[0][0]        \n",
      "__________________________________________________________________________________________________\n",
      "tf_op_layer_mul_35 (TensorFlowO [(None,)]            0           tf_op_layer_Sum_8[0][0]          \n",
      "__________________________________________________________________________________________________\n",
      "tf_op_layer_add_44 (TensorFlowO [(None,)]            0           tf_op_layer_mul_34[0][0]         \n",
      "                                                                 tf_op_layer_mul_35[0][0]         \n",
      "__________________________________________________________________________________________________\n",
      "tf_op_layer_Mean_17 (TensorFlow [()]                 0           tf_op_layer_add_44[0][0]         \n",
      "__________________________________________________________________________________________________\n",
      "add_loss_8 (AddLoss)            ()                   0           tf_op_layer_Mean_17[0][0]        \n",
      "==================================================================================================\n",
      "Total params: 1,542\n",
      "Trainable params: 1,542\n",
      "Non-trainable params: 0\n",
      "__________________________________________________________________________________________________\n",
      "Failed to import pydot. You must install pydot and graphviz for `pydotprint` to work.\n",
      "Train on 9000 samples, validate on 1000 samples\n",
      "Epoch 1/50\n",
      "9000/9000 [==============================] - 1s 90us/sample - loss: 1.3665 - val_loss: 1.3008\n",
      "Epoch 2/50\n",
      "9000/9000 [==============================] - 0s 24us/sample - loss: 1.2251 - val_loss: 1.1929\n",
      "Epoch 3/50\n",
      "9000/9000 [==============================] - 0s 24us/sample - loss: 1.1939 - val_loss: 1.1908\n",
      "Epoch 4/50\n",
      "9000/9000 [==============================] - 0s 24us/sample - loss: 1.1919 - val_loss: 1.1884\n",
      "Epoch 5/50\n",
      "9000/9000 [==============================] - 0s 23us/sample - loss: 1.1906 - val_loss: 1.1882\n",
      "Epoch 6/50\n",
      "9000/9000 [==============================] - 0s 24us/sample - loss: 1.1898 - val_loss: 1.1882\n",
      "Epoch 7/50\n",
      "9000/9000 [==============================] - 0s 25us/sample - loss: 1.1892 - val_loss: 1.1876\n",
      "Epoch 8/50\n",
      "9000/9000 [==============================] - 0s 22us/sample - loss: 1.1890 - val_loss: 1.1871\n",
      "Epoch 9/50\n"
     ]
    },
    {
     "name": "stdout",
     "output_type": "stream",
     "text": [
      "9000/9000 [==============================] - 0s 25us/sample - loss: 1.1887 - val_loss: 1.1871\n",
      "Epoch 10/50\n",
      "9000/9000 [==============================] - 0s 23us/sample - loss: 1.1887 - val_loss: 1.1868\n",
      "Epoch 11/50\n",
      "9000/9000 [==============================] - 0s 23us/sample - loss: 1.1883 - val_loss: 1.1864\n",
      "Epoch 12/50\n",
      "9000/9000 [==============================] - 0s 24us/sample - loss: 1.1883 - val_loss: 1.1863\n",
      "Epoch 13/50\n",
      "9000/9000 [==============================] - 0s 25us/sample - loss: 1.1882 - val_loss: 1.1876\n",
      "Epoch 14/50\n",
      "9000/9000 [==============================] - 0s 23us/sample - loss: 1.1883 - val_loss: 1.1868\n",
      "Epoch 15/50\n",
      "9000/9000 [==============================] - 0s 23us/sample - loss: 1.1880 - val_loss: 1.1867\n",
      "Epoch 16/50\n",
      "9000/9000 [==============================] - 0s 24us/sample - loss: 1.1883 - val_loss: 1.1870\n",
      "Epoch 17/50\n",
      "9000/9000 [==============================] - 0s 22us/sample - loss: 1.1881 - val_loss: 1.1859\n",
      "Epoch 18/50\n",
      "9000/9000 [==============================] - 0s 24us/sample - loss: 1.1880 - val_loss: 1.1863\n",
      "Epoch 19/50\n",
      "9000/9000 [==============================] - 0s 22us/sample - loss: 1.1879 - val_loss: 1.1863\n",
      "Epoch 20/50\n",
      "9000/9000 [==============================] - 0s 23us/sample - loss: 1.1879 - val_loss: 1.1867\n",
      "Epoch 21/50\n",
      "9000/9000 [==============================] - 0s 22us/sample - loss: 1.1879 - val_loss: 1.1862\n",
      "Epoch 22/50\n",
      "9000/9000 [==============================] - 0s 22us/sample - loss: 1.1877 - val_loss: 1.1859\n",
      "Epoch 23/50\n",
      "9000/9000 [==============================] - ETA: 0s - loss: 1.188 - 0s 23us/sample - loss: 1.1875 - val_loss: 1.1865\n",
      "Epoch 24/50\n",
      "9000/9000 [==============================] - 0s 22us/sample - loss: 1.1876 - val_loss: 1.1856\n",
      "Epoch 25/50\n",
      "9000/9000 [==============================] - 0s 24us/sample - loss: 1.1874 - val_loss: 1.1853\n",
      "Epoch 26/50\n",
      "9000/9000 [==============================] - 0s 24us/sample - loss: 1.1873 - val_loss: 1.1857\n",
      "Epoch 27/50\n",
      "9000/9000 [==============================] - 0s 23us/sample - loss: 1.1871 - val_loss: 1.1857\n",
      "Epoch 28/50\n",
      "9000/9000 [==============================] - 0s 24us/sample - loss: 1.1869 - val_loss: 1.1851\n",
      "Epoch 29/50\n",
      "9000/9000 [==============================] - 0s 22us/sample - loss: 1.1870 - val_loss: 1.1848\n",
      "Epoch 30/50\n",
      "9000/9000 [==============================] - 0s 23us/sample - loss: 1.1869 - val_loss: 1.1849\n",
      "Epoch 31/50\n",
      "9000/9000 [==============================] - 0s 22us/sample - loss: 1.1867 - val_loss: 1.1852\n",
      "Epoch 32/50\n",
      "9000/9000 [==============================] - 0s 22us/sample - loss: 1.1865 - val_loss: 1.1848\n",
      "Epoch 33/50\n",
      "9000/9000 [==============================] - 0s 23us/sample - loss: 1.1867 - val_loss: 1.1846\n",
      "Epoch 34/50\n",
      "9000/9000 [==============================] - 0s 23us/sample - loss: 1.1866 - val_loss: 1.1850\n",
      "Epoch 35/50\n",
      "9000/9000 [==============================] - 0s 24us/sample - loss: 1.1863 - val_loss: 1.1848\n",
      "Epoch 36/50\n",
      "9000/9000 [==============================] - 0s 22us/sample - loss: 1.1864 - val_loss: 1.1840\n",
      "Epoch 37/50\n",
      "9000/9000 [==============================] - 0s 25us/sample - loss: 1.1863 - val_loss: 1.1847\n",
      "Epoch 38/50\n",
      "9000/9000 [==============================] - 0s 24us/sample - loss: 1.1859 - val_loss: 1.1843\n",
      "Epoch 39/50\n",
      "9000/9000 [==============================] - 0s 23us/sample - loss: 1.1860 - val_loss: 1.1843\n",
      "Epoch 40/50\n",
      "9000/9000 [==============================] - 0s 22us/sample - loss: 1.1860 - val_loss: 1.1834\n",
      "Epoch 41/50\n",
      "9000/9000 [==============================] - 0s 22us/sample - loss: 1.1856 - val_loss: 1.1839\n",
      "Epoch 42/50\n",
      "9000/9000 [==============================] - 0s 23us/sample - loss: 1.1855 - val_loss: 1.1838\n",
      "Epoch 43/50\n",
      "9000/9000 [==============================] - 0s 24us/sample - loss: 1.1854 - val_loss: 1.1828\n",
      "Epoch 44/50\n",
      "9000/9000 [==============================] - 0s 24us/sample - loss: 1.1852 - val_loss: 1.1826\n",
      "Epoch 45/50\n",
      "9000/9000 [==============================] - 0s 25us/sample - loss: 1.1845 - val_loss: 1.1819\n",
      "Epoch 46/50\n",
      "9000/9000 [==============================] - 0s 24us/sample - loss: 1.1841 - val_loss: 1.1819\n",
      "Epoch 47/50\n",
      "9000/9000 [==============================] - 0s 23us/sample - loss: 1.1837 - val_loss: 1.1812\n",
      "Epoch 48/50\n",
      "9000/9000 [==============================] - 0s 23us/sample - loss: 1.1835 - val_loss: 1.1816\n",
      "Epoch 49/50\n",
      "9000/9000 [==============================] - 0s 23us/sample - loss: 1.1835 - val_loss: 1.1806\n",
      "Epoch 50/50\n",
      "9000/9000 [==============================] - 0s 23us/sample - loss: 1.1834 - val_loss: 1.1819\n"
     ]
    }
   ],
   "source": [
    "models = (encoder, decoder)\n",
    "\n",
    "MSE = False\n",
    "WEIGHTS = False\n",
    "\n",
    "epochs = 50\n",
    "\n",
    "# VAE loss = mse_loss or xent_loss + kl_loss\n",
    "if MSE:\n",
    "    reconstruction_loss = mse(inputs, outputs)\n",
    "else:\n",
    "    reconstruction_loss = binary_crossentropy(inputs,\n",
    "                                              outputs)\n",
    "\n",
    "reconstruction_loss *= original_dim\n",
    "kl_loss = 1 + z_log_var - K.square(z_mean) - K.exp(z_log_var)\n",
    "kl_loss = K.sum(kl_loss, axis=-1)\n",
    "kl_loss *= -0.005\n",
    "vae_loss = K.mean(reconstruction_loss + kl_loss)\n",
    "vae.add_loss(vae_loss)\n",
    "vae.compile(optimizer='adam')\n",
    "vae.summary()\n",
    "plot_model(vae,\n",
    "           to_file='vae_mlp.png',\n",
    "           show_shapes=True)\n",
    "\n",
    "if WEIGHTS:\n",
    "    vae.load_model('vae_mlp_mnist.h5')\n",
    "else:\n",
    "    # train the autoencoder\n",
    "    vae.fit(\n",
    "        x_train,\n",
    "        epochs=50,\n",
    "        batch_size=batch_size,\n",
    "        validation_data=(x_test, None)\n",
    "    )   "
   ]
  },
  {
   "cell_type": "markdown",
   "metadata": {},
   "source": [
    "# Scatter Plot of Original Data"
   ]
  },
  {
   "cell_type": "code",
   "execution_count": 113,
   "metadata": {
    "scrolled": true
   },
   "outputs": [
    {
     "data": {
      "image/png": "[encoded data removed]",
      "text/plain": [
       "<Figure size 432x288 with 1 Axes>"
      ]
     },
     "metadata": {
      "needs_background": "light"
     },
     "output_type": "display_data"
    }
   ],
   "source": [
    "fig_0 = plt.scatter(X[:,0], X[:,1])"
   ]
  },
  {
   "cell_type": "markdown",
   "metadata": {},
   "source": [
    "## Sampling From the Model\n",
    "\n",
    "We'll first generate multivariate data from NumPy and send this through the decoder to determine how well the decoder replicates the original distribution. "
   ]
  },
  {
   "cell_type": "code",
   "execution_count": 109,
   "metadata": {},
   "outputs": [],
   "source": [
    "X_Test = np.random.multivariate_normal([0,0], [[1,0],[0,1]], 1000)\n",
    "\n",
    "results = decoder.predict(X_Test)"
   ]
  },
  {
   "cell_type": "code",
   "execution_count": 110,
   "metadata": {},
   "outputs": [
    {
     "data": {
      "text/plain": [
       "<matplotlib.collections.PathCollection at 0x7fb58a90c9e8>"
      ]
     },
     "execution_count": 110,
     "metadata": {},
     "output_type": "execute_result"
    },
    {
     "data": {
      "image/png": "[encoded data removed]",
      "text/plain": [
       "<Figure size 432x288 with 1 Axes>"
      ]
     },
     "metadata": {
      "needs_background": "light"
     },
     "output_type": "display_data"
    }
   ],
   "source": [
    "plt.scatter(results[:,0], results[:,1])"
   ]
  },
  {
   "cell_type": "markdown",
   "metadata": {},
   "source": [
    "This leaves a lot to be desired, we see that it _kind of_ looks like our original distribution (if we're being generous)"
   ]
  },
  {
   "cell_type": "markdown",
   "metadata": {},
   "source": [
    "# Stored Latent Representations\n",
    "\n",
    "Let's now look at the stored latent representations of the `x_test` dataset"
   ]
  },
  {
   "cell_type": "code",
   "execution_count": 111,
   "metadata": {},
   "outputs": [
    {
     "name": "stdout",
     "output_type": "stream",
     "text": [
      "[[ 0.987072    1.0586257 ]\n",
      " [ 0.5454304   0.4536318 ]\n",
      " [ 1.3297424   1.4983327 ]\n",
      " ...\n",
      " [-1.6697013  -0.38763562]\n",
      " [-0.5864523  -0.45113537]\n",
      " [ 0.61729014 -1.8954529 ]]\n"
     ]
    }
   ],
   "source": [
    "encoded = encoder.predict(x_test)[0]\n",
    "print(encoded)"
   ]
  },
  {
   "cell_type": "code",
   "execution_count": 112,
   "metadata": {},
   "outputs": [
    {
     "data": {
      "image/png": "[encoded data removed]",
      "text/plain": [
       "<Figure size 432x288 with 1 Axes>"
      ]
     },
     "metadata": {
      "needs_background": "light"
     },
     "output_type": "display_data"
    }
   ],
   "source": [
    "fig = plt.scatter(encoded[:,0], encoded[:,1])"
   ]
  },
  {
   "cell_type": "markdown",
   "metadata": {},
   "source": [
    "Not surprisingly they are stored as two separate clusters within the encodings, and we start to get an idea of why our decoder is behaving poorly, the two non-dense clusters leave gaps in the encodings that does represent data that needs to be replicated and as such when we pull from this source, it give data that doesn't fit the original distribution well."
   ]
  },
  {
   "cell_type": "markdown",
   "metadata": {},
   "source": [
    "# Pass Through the Model\n",
    "\n",
    "We now want to see how the pass through the model looks like."
   ]
  },
  {
   "cell_type": "code",
   "execution_count": 114,
   "metadata": {},
   "outputs": [],
   "source": [
    "en_de = decoder.predict(encoded)"
   ]
  },
  {
   "cell_type": "code",
   "execution_count": 115,
   "metadata": {},
   "outputs": [
    {
     "data": {
      "text/plain": [
       "<matplotlib.collections.PathCollection at 0x7fb588779cc0>"
      ]
     },
     "execution_count": 115,
     "metadata": {},
     "output_type": "execute_result"
    },
    {
     "data": {
      "image/png": "[encoded data removed]",
      "text/plain": [
       "<Figure size 432x288 with 1 Axes>"
      ]
     },
     "metadata": {
      "needs_background": "light"
     },
     "output_type": "display_data"
    }
   ],
   "source": [
    "plt.scatter(en_de[:,0], en_de[:,1])"
   ]
  },
  {
   "cell_type": "code",
   "execution_count": 116,
   "metadata": {},
   "outputs": [],
   "source": [
    "through = vae.predict(x_test)"
   ]
  },
  {
   "cell_type": "code",
   "execution_count": 117,
   "metadata": {},
   "outputs": [
    {
     "data": {
      "text/plain": [
       "<matplotlib.collections.PathCollection at 0x7fb5885e35f8>"
      ]
     },
     "execution_count": 117,
     "metadata": {},
     "output_type": "execute_result"
    },
    {
     "data": {
      "image/png": "[encoded data removed]",
      "text/plain": [
       "<Figure size 432x288 with 1 Axes>"
      ]
     },
     "metadata": {
      "needs_background": "light"
     },
     "output_type": "display_data"
    }
   ],
   "source": [
    "plt.scatter(through[:,0], through[:,1])"
   ]
  },
  {
   "cell_type": "code",
   "execution_count": 119,
   "metadata": {},
   "outputs": [
    {
     "data": {
      "text/plain": [
       "<matplotlib.collections.PathCollection at 0x7fb5887782e8>"
      ]
     },
     "execution_count": 119,
     "metadata": {},
     "output_type": "execute_result"
    },
    {
     "data": {
      "image/png": "[encoded data removed]",
      "text/plain": [
       "<Figure size 432x288 with 1 Axes>"
      ]
     },
     "metadata": {
      "needs_background": "light"
     },
     "output_type": "display_data"
    }
   ],
   "source": [
    "plt.scatter(x_test[:,0], x_test[:,1])"
   ]
  },
  {
   "cell_type": "markdown",
   "metadata": {},
   "source": [
    "# Notes\n",
    "\n",
    "1. We can improve the \"denseness\" of the internal representation by modifying the constant multiplier in the `KL Loss` Function\n",
    "\n",
    "1. It may work better if there is uniform noise throughout the entire distribution (that's my next check)"
   ]
  },
  {
   "cell_type": "code",
   "execution_count": null,
   "metadata": {},
   "outputs": [],
   "source": []
  }
 ],
 "metadata": {
  "kernelspec": {
   "display_name": "Python 3",
   "language": "python",
   "name": "python3"
  },
  "language_info": {
   "codemirror_mode": {
    "name": "ipython",
    "version": 3
   },
   "file_extension": ".py",
   "mimetype": "text/x-python",
   "name": "python",
   "nbconvert_exporter": "python",
   "pygments_lexer": "ipython3",
   "version": "3.7.3"
  }
 },
 "nbformat": 4,
 "nbformat_minor": 2
}
